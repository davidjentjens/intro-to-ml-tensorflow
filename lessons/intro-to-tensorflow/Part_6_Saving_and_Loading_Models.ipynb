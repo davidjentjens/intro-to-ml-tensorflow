{
 "cells": [
  {
   "cell_type": "markdown",
   "metadata": {
    "colab_type": "text",
    "id": "k7sePAkWpLJV"
   },
   "source": [
    "# Saving and Loading Models\n",
    "\n",
    "In this notebook, we'll see how to save and load models with TensorFlow. This is important because you'll often want to load previously trained models to use in making predictions or to continue training on new data."
   ]
  },
  {
   "cell_type": "markdown",
   "metadata": {
    "colab_type": "text",
    "id": "tD856SqhH4JK"
   },
   "source": [
    "## Import Resources"
   ]
  },
  {
   "cell_type": "code",
   "execution_count": 8,
   "metadata": {},
   "outputs": [],
   "source": [
    "import warnings\n",
    "warnings.filterwarnings('ignore')"
   ]
  },
  {
   "cell_type": "code",
   "execution_count": 9,
   "metadata": {
    "colab": {},
    "colab_type": "code",
    "id": "Hsu5egUUqPg9"
   },
   "outputs": [],
   "source": [
    "%matplotlib inline\n",
    "%config InlineBackend.figure_format = 'retina'\n",
    "\n",
    "import time\n",
    "import numpy as np\n",
    "import matplotlib.pyplot as plt\n",
    "\n",
    "import tensorflow as tf\n",
    "import tensorflow_datasets as tfds\n",
    "tfds.disable_progress_bar()"
   ]
  },
  {
   "cell_type": "code",
   "execution_count": 10,
   "metadata": {},
   "outputs": [],
   "source": [
    "import logging\n",
    "logger = tf.get_logger()\n",
    "logger.setLevel(logging.ERROR)"
   ]
  },
  {
   "cell_type": "code",
   "execution_count": 11,
   "metadata": {
    "colab": {
     "base_uri": "https://localhost:8080/",
     "height": 85
    },
    "colab_type": "code",
    "id": "BqsrWYDKp4Fd",
    "outputId": "5fe90392-c56f-423f-bc89-b9fc985feecf"
   },
   "outputs": [
    {
     "name": "stdout",
     "output_type": "stream",
     "text": [
      "Using:\n",
      "\t• TensorFlow version: 2.4.0\n",
      "\t• tf.keras version: 2.4.0\n",
      "\t• GPU device not found. Running on CPU\n"
     ]
    }
   ],
   "source": [
    "print('Using:')\n",
    "print('\\t\\u2022 TensorFlow version:', tf.__version__)\n",
    "print('\\t\\u2022 tf.keras version:', tf.keras.__version__)\n",
    "print('\\t\\u2022 Running on GPU' if tf.test.is_gpu_available() else '\\t\\u2022 GPU device not found. Running on CPU')"
   ]
  },
  {
   "cell_type": "markdown",
   "metadata": {
    "colab_type": "text",
    "id": "dAe81nXoICzC"
   },
   "source": [
    "## Load the Dataset"
   ]
  },
  {
   "cell_type": "code",
   "execution_count": 13,
   "metadata": {
    "colab": {
     "base_uri": "https://localhost:8080/",
     "height": 207
    },
    "colab_type": "code",
    "id": "bxcg_ZbuLnM3",
    "outputId": "33841a52-53e6-4e8a-ecbd-b448bf3c46f5"
   },
   "outputs": [],
   "source": [
    "splits = ['train[:60%]', 'train[:20%]', 'train[:20%]']\n",
    "\n",
    "dataset, dataset_info = tfds.load('fashion_mnist', split=splits, as_supervised=True, with_info=True)\n",
    "\n",
    "training_set, validation_set, test_set = dataset"
   ]
  },
  {
   "cell_type": "markdown",
   "metadata": {
    "colab_type": "text",
    "id": "z1WhOLC7Ii3D"
   },
   "source": [
    "## Explore the Dataset"
   ]
  },
  {
   "cell_type": "code",
   "execution_count": 14,
   "metadata": {
    "colab": {
     "base_uri": "https://localhost:8080/",
     "height": 68
    },
    "colab_type": "code",
    "id": "9i2586KjI4QM",
    "outputId": "24ccc17a-c3f6-44ba-edc3-ae267e628fc2"
   },
   "outputs": [
    {
     "name": "stdout",
     "output_type": "stream",
     "text": [
      "There are 42,000 images in the training set\n",
      "There are 14,000 images in the validation set\n",
      "There are 14,000 images in the test set\n"
     ]
    }
   ],
   "source": [
    "total_examples = dataset_info.splits['train'].num_examples + dataset_info.splits['test'].num_examples\n",
    "\n",
    "num_training_examples = (total_examples * train_split) // 100\n",
    "num_validation_examples = (total_examples * test_val_split) // 100\n",
    "num_test_examples = num_validation_examples\n",
    "\n",
    "print('There are {:,} images in the training set'.format(num_training_examples))\n",
    "print('There are {:,} images in the validation set'.format(num_validation_examples))\n",
    "print('There are {:,} images in the test set'.format(num_test_examples))"
   ]
  },
  {
   "cell_type": "code",
   "execution_count": 15,
   "metadata": {
    "colab": {},
    "colab_type": "code",
    "id": "RLMJCpppq43U"
   },
   "outputs": [],
   "source": [
    "class_names = ['T-shirt/top', 'Trouser', 'Pullover', 'Dress', 'Coat', \n",
    "               'Sandal',      'Shirt',   'Sneaker',  'Bag',   'Ankle boot']"
   ]
  },
  {
   "cell_type": "code",
   "execution_count": 16,
   "metadata": {
    "colab": {
     "base_uri": "https://localhost:8080/",
     "height": 280
    },
    "colab_type": "code",
    "id": "PeU9nb_xqW98",
    "outputId": "7e35ce36-2589-4b3e-b2bf-313eaa2414f0"
   },
   "outputs": [
    {
     "data": {
      "image/png": "[encoded data removed]",
      "text/plain": [
       "<Figure size 432x288 with 2 Axes>"
      ]
     },
     "metadata": {
      "image/png": {
       "height": 263,
       "width": 305
      },
      "needs_background": "light"
     },
     "output_type": "display_data"
    }
   ],
   "source": [
    "for image, label in training_set.take(1):\n",
    "    image = image.numpy().squeeze()\n",
    "    label = label.numpy()\n",
    "\n",
    "plt.imshow(image, cmap=plt.cm.binary)\n",
    "plt.title(class_names[label])\n",
    "plt.colorbar()\n",
    "plt.show()"
   ]
  },
  {
   "cell_type": "markdown",
   "metadata": {
    "colab_type": "text",
    "id": "k5rUDqxBIt5N"
   },
   "source": [
    "## Create Pipeline"
   ]
  },
  {
   "cell_type": "code",
   "execution_count": 18,
   "metadata": {
    "colab": {},
    "colab_type": "code",
    "id": "Ec3uphcyci3c"
   },
   "outputs": [],
   "source": [
    "def normalize(image, label):\n",
    "    image = tf.cast(image, tf.float32)\n",
    "    image /= 255\n",
    "    return image, label\n",
    "\n",
    "batch_size = 64\n",
    "\n",
    "training_batches = training_set.cache().shuffle(num_training_examples//4).batch(batch_size).map(normalize).prefetch(1)\n",
    "validation_batches = validation_set.cache().batch(batch_size).map(normalize).prefetch(1)\n",
    "testing_batches = test_set.cache().batch(batch_size).map(normalize).prefetch(1)"
   ]
  },
  {
   "cell_type": "markdown",
   "metadata": {
    "colab_type": "text",
    "id": "ySQuJ-iPqNoR"
   },
   "source": [
    "## Build and Train the Model\n",
    "\n",
    "Here we'll build and compile our model as usual."
   ]
  },
  {
   "cell_type": "code",
   "execution_count": 19,
   "metadata": {
    "colab": {
     "base_uri": "https://localhost:8080/",
     "height": 425
    },
    "colab_type": "code",
    "id": "47Vnu0KJMqwc",
    "outputId": "f1abd9d1-db9e-4bfd-99c7-d4376adb8745"
   },
   "outputs": [
    {
     "name": "stdout",
     "output_type": "stream",
     "text": [
      "Model: \"sequential\"\n",
      "_________________________________________________________________\n",
      "Layer (type)                 Output Shape              Param #   \n",
      "=================================================================\n",
      "flatten (Flatten)            (None, 784)               0         \n",
      "_________________________________________________________________\n",
      "dense (Dense)                (None, 512)               401920    \n",
      "_________________________________________________________________\n",
      "dropout (Dropout)            (None, 512)               0         \n",
      "_________________________________________________________________\n",
      "dense_1 (Dense)              (None, 256)               131328    \n",
      "_________________________________________________________________\n",
      "dropout_1 (Dropout)          (None, 256)               0         \n",
      "_________________________________________________________________\n",
      "dense_2 (Dense)              (None, 128)               32896     \n",
      "_________________________________________________________________\n",
      "dropout_2 (Dropout)          (None, 128)               0         \n",
      "_________________________________________________________________\n",
      "dense_3 (Dense)              (None, 10)                1290      \n",
      "=================================================================\n",
      "Total params: 567,434\n",
      "Trainable params: 567,434\n",
      "Non-trainable params: 0\n",
      "_________________________________________________________________\n"
     ]
    }
   ],
   "source": [
    "layer_neurons = [512, 256, 128]\n",
    "\n",
    "dropout_rate = 0.5\n",
    "\n",
    "model = tf.keras.Sequential()\n",
    "\n",
    "model.add(tf.keras.layers.Flatten(input_shape=(28,28,1)))\n",
    "\n",
    "for neurons in layer_neurons:\n",
    "    model.add(tf.keras.layers.Dense(neurons, activation = 'relu'))\n",
    "    model.add(tf.keras.layers.Dropout(dropout_rate))\n",
    "\n",
    "model.add(tf.keras.layers.Dense(10, activation = 'softmax'))\n",
    "\n",
    "model.summary()"
   ]
  },
  {
   "cell_type": "code",
   "execution_count": 12,
   "metadata": {
    "colab": {
     "base_uri": "https://localhost:8080/",
     "height": 153
    },
    "colab_type": "code",
    "id": "1qLJ-cAwnmFD",
    "outputId": "32be0a8a-5cfb-473f-872c-e09da279eae5"
   },
   "outputs": [
    {
     "name": "stdout",
     "output_type": "stream",
     "text": [
      "Epoch 1/4\n",
      "657/657 [==============================] - 30s 45ms/step - loss: 0.8426 - accuracy: 0.6932 - val_loss: 0.0000e+00 - val_accuracy: 0.0000e+00\n",
      "Epoch 2/4\n",
      "657/657 [==============================] - 27s 41ms/step - loss: 0.5706 - accuracy: 0.7977 - val_loss: 0.4371 - val_accuracy: 0.8412\n",
      "Epoch 3/4\n",
      "657/657 [==============================] - 27s 41ms/step - loss: 0.5117 - accuracy: 0.8184 - val_loss: 0.4168 - val_accuracy: 0.8483\n",
      "Epoch 4/4\n",
      "657/657 [==============================] - 27s 42ms/step - loss: 0.4896 - accuracy: 0.8269 - val_loss: 0.4140 - val_accuracy: 0.8475\n"
     ]
    }
   ],
   "source": [
    "model.compile(optimizer='adam',\n",
    "              loss='sparse_categorical_crossentropy',\n",
    "              metrics=['accuracy'])\n",
    "\n",
    "EPOCHS = 4\n",
    "\n",
    "history = model.fit(training_batches,\n",
    "                    epochs=EPOCHS,\n",
    "                    validation_data=validation_batches)"
   ]
  },
  {
   "cell_type": "markdown",
   "metadata": {
    "colab_type": "text",
    "id": "jseIvfe2xb56"
   },
   "source": [
    "## Saving and Loading Models\n",
    "\n",
    "In TensorFlow we can save our trained models in different formats. Here we will see how to save our models in TensorFlow's SavedModel format and as HDF5 files, which is the format used by Keras models.\n",
    "\n",
    "### Saving and Loading Models in HDF5 Format\n",
    "\n",
    "To save our models in the format used by Keras models we use the `.save(filepath)` method. For example, to save a model called `my_model` in the current working directory with the name `test_model` we use:\n",
    "\n",
    "```python\n",
    "my_model.save('./test_model.h5')\n",
    "```\n",
    "\n",
    "It's important to note that we have to provide the `.h5` extension to the `filepath` in order the tell `tf.keras` to save our model as an HDF5 file. \n",
    "\n",
    "The above command saves our model into a single HDF5 file that will contain:\n",
    "\n",
    "* The model's architecture.\n",
    "* The model's weight values which were learned during training.\n",
    "* The model's training configuration, which corresponds to the parameters you passed to the `compile` method.\n",
    "* The optimizer and its state. This allows you to resume training exactly where you left off.\n",
    "\n",
    "\n",
    "In the cell below we save our trained `model` as an HDF5 file. The name of our HDF5 will correspond to the current time stamp. This is useful if you are saving many models and want each of them to have a unique name. By default the `.save()` method will **silently** overwrite any existing file at the target location with the same name. If we want `tf.keras` to provide us with a manual prompt to whether overwrite files with the same name, you can set the argument `overwrite=False` in the `.save()` method."
   ]
  },
  {
   "cell_type": "code",
   "execution_count": 20,
   "metadata": {
    "colab": {},
    "colab_type": "code",
    "id": "G1dOvNRvrhNa"
   },
   "outputs": [],
   "source": [
    "t = time.time()\n",
    "\n",
    "saved_keras_model_filepath = './{}.h5'.format(int(t))\n",
    "\n",
    "model.save(saved_keras_model_filepath)"
   ]
  },
  {
   "cell_type": "markdown",
   "metadata": {
    "colab_type": "text",
    "id": "lGNRBb1puSRg"
   },
   "source": [
    "Once a model has been saved, we can use `tf.keras.models.load_model(filepath)` to re-load our model. This command will also compile our model automatically using the saved training configuration, unless the model was never compiled in the first place."
   ]
  },
  {
   "cell_type": "code",
   "execution_count": 21,
   "metadata": {
    "colab": {
     "base_uri": "https://localhost:8080/",
     "height": 547
    },
    "colab_type": "code",
    "id": "akaAVE2js5d0",
    "outputId": "84301998-a6c3-4a55-c5f1-f76d086290bf"
   },
   "outputs": [
    {
     "name": "stdout",
     "output_type": "stream",
     "text": [
      "Model: \"sequential\"\n",
      "_________________________________________________________________\n",
      "Layer (type)                 Output Shape              Param #   \n",
      "=================================================================\n",
      "flatten (Flatten)            (None, 784)               0         \n",
      "_________________________________________________________________\n",
      "dense (Dense)                (None, 512)               401920    \n",
      "_________________________________________________________________\n",
      "dropout (Dropout)            (None, 512)               0         \n",
      "_________________________________________________________________\n",
      "dense_1 (Dense)              (None, 256)               131328    \n",
      "_________________________________________________________________\n",
      "dropout_1 (Dropout)          (None, 256)               0         \n",
      "_________________________________________________________________\n",
      "dense_2 (Dense)              (None, 128)               32896     \n",
      "_________________________________________________________________\n",
      "dropout_2 (Dropout)          (None, 128)               0         \n",
      "_________________________________________________________________\n",
      "dense_3 (Dense)              (None, 10)                1290      \n",
      "=================================================================\n",
      "Total params: 567,434\n",
      "Trainable params: 567,434\n",
      "Non-trainable params: 0\n",
      "_________________________________________________________________\n"
     ]
    }
   ],
   "source": [
    "reloaded_keras_model = tf.keras.models.load_model(saved_keras_model_filepath)\n",
    "\n",
    "reloaded_keras_model.summary()"
   ]
  },
  {
   "cell_type": "markdown",
   "metadata": {
    "colab_type": "text",
    "id": "xWihP1oMjNeF"
   },
   "source": [
    "As we can see the re-loaded model has the same architecture as our original model, as it should be. At this point, since we haven't done anything new to the re-loaded model, then both the `reloaded_keras_model` our original `model` should be identical copies. Therefore, they should make the same predictions on the same images. Let's check that this is true:"
   ]
  },
  {
   "cell_type": "code",
   "execution_count": 22,
   "metadata": {
    "colab": {
     "base_uri": "https://localhost:8080/",
     "height": 34
    },
    "colab_type": "code",
    "id": "gLQsw7QVkElc",
    "outputId": "0d00e16b-9fdd-4d34-b9ab-96956ddbf5a5"
   },
   "outputs": [
    {
     "name": "stdout",
     "output_type": "stream",
     "text": [
      "0.0\n"
     ]
    }
   ],
   "source": [
    "for image_batch, label_batch in testing_batches.take(1):\n",
    "    prediction_1 = model.predict(image_batch)\n",
    "    prediction_2 = reloaded_keras_model.predict(image_batch)\n",
    "    difference = np.abs(prediction_1 - prediction_2)\n",
    "    print(difference.max())"
   ]
  },
  {
   "cell_type": "markdown",
   "metadata": {
    "colab_type": "text",
    "id": "K-dDOY0BmYhs"
   },
   "source": [
    "As we can see, the result is 0.0, which indicates that both models made the same predictions on the same images."
   ]
  },
  {
   "cell_type": "markdown",
   "metadata": {
    "colab_type": "text",
    "id": "lxHdz18pQUNV"
   },
   "source": [
    "### Saving and Loading TensorFlow SavedModels"
   ]
  },
  {
   "cell_type": "markdown",
   "metadata": {
    "colab_type": "text",
    "id": "OGtK83g2vVki"
   },
   "source": [
    "To export our models to the TensorFlow **SavedModel** format, we use the `tf.saved_model.save(model, export_dir)` function. For example, to save a model called `my_model` in a folder called `saved_models` located in the current working directory we use:\n",
    "\n",
    "```python\n",
    "tf.saved_model.save(my_model, './saved_models')\n",
    "```\n",
    "\n",
    "It's important to note that here we have to provide the path to the directory where we want to save our model, **NOT** the name of the file. This is because SavedModels are not saved in a single file. Rather, when you save your model as a SavedModel, `the tf.saved_model.save()` function will create an `assets` folder, a `variables` folder, and a `saved_model.pb` file inside the directory you provided.\n",
    "\n",
    "The SavedModel files that are created contain:\n",
    "\n",
    "* A TensorFlow checkpoint containing the model weights.\n",
    "* A SavedModel proto containing the underlying TensorFlow graph. Separate graphs are saved for prediction (serving), training, and evaluation. If the model wasn't compiled before, then only the inference graph gets exported.\n",
    "* The model's architecture configuration if available.\n",
    "\n",
    "The SavedModel is a standalone serialization format for TensorFlow objects, supported by TensorFlow serving as well as TensorFlow implementations other than Python. It does not require the original model building code to run, which makes it useful for sharing or deploying in different platforms, such as mobile and embedded devices (with TensorFlow Lite), servers (with TensorFlow Serving), and even web browsers (with TensorFlow.js).\n",
    "\n",
    "In the cell below we save our trained model as a SavedModel. The name of the folder where we are going to save our model will correspond to the current time stamp. Again, this is useful if you are saving many models and want each of them to be saved in a unique directory."
   ]
  },
  {
   "cell_type": "code",
   "execution_count": 23,
   "metadata": {
    "colab": {
     "base_uri": "https://localhost:8080/",
     "height": 173
    },
    "colab_type": "code",
    "id": "V2C0F3luxzlI",
    "outputId": "80a362e5-008f-4f54-ffb5-0b5577b5c46b"
   },
   "outputs": [],
   "source": [
    "t = time.time()\n",
    "\n",
    "savedModel_directory = './{}'.format(int(t))\n",
    "\n",
    "tf.saved_model.save(model, savedModel_directory)"
   ]
  },
  {
   "cell_type": "markdown",
   "metadata": {
    "colab_type": "text",
    "id": "DBY1j0QEyjPi"
   },
   "source": [
    "Once a model has been saved as a SavedModel, we can use `tf.saved_model.load(export_dir)` to re-load our model. "
   ]
  },
  {
   "cell_type": "code",
   "execution_count": 24,
   "metadata": {
    "colab": {},
    "colab_type": "code",
    "id": "rRx2y2M4AtKl"
   },
   "outputs": [],
   "source": [
    "reloaded_SavedModel = tf.saved_model.load(savedModel_directory)"
   ]
  },
  {
   "cell_type": "markdown",
   "metadata": {
    "colab_type": "text",
    "id": "wJwmzT1gAwew"
   },
   "source": [
    "It's important to note that the object returned by `tf.saved_model.load` is **NOT** a Keras object. Therefore, it doesn't have `.fit`, `.predict`, `.summary`, etc. methods. It is 100% independent of the code that created it. This means that in order to make predictions with our `reloaded_SavedModel` we need to use a different method than the one used with the re-loaded Keras model.\n",
    "\n",
    "To make predictions on a batch of images with a re-loaded SavedModel we have to use:\n",
    "\n",
    "```python\n",
    "reloaded_SavedModel(image_batch, training=False)\n",
    "```\n",
    "\n",
    "This will return a tensor with the predicted label probabilities for each image in the batch. Again, since we haven't done anything new to this re-loaded SavedModel, then both the `reloaded_SavedModel` and our original `model` should be identical copies. Therefore, they should make the same predictions on the same images. Let's check that this is true:"
   ]
  },
  {
   "cell_type": "code",
   "execution_count": 26,
   "metadata": {
    "colab": {
     "base_uri": "https://localhost:8080/",
     "height": 34
    },
    "colab_type": "code",
    "id": "ozMqD1ZoER5g",
    "outputId": "17769afa-1a1f-48c4-80e5-a389c80f4062"
   },
   "outputs": [
    {
     "name": "stdout",
     "output_type": "stream",
     "text": [
      "7.4505806e-08\n"
     ]
    }
   ],
   "source": [
    "for image_batch, label_batch in testing_batches.take(1):\n",
    "    prediction_1 = model.predict(image_batch)\n",
    "    prediction_2 = reloaded_SavedModel(image_batch, training=False).numpy()\n",
    "    difference = np.abs(prediction_1 - prediction_2)\n",
    "    print(difference.max())"
   ]
  },
  {
   "cell_type": "markdown",
   "metadata": {
    "colab_type": "text",
    "id": "3QZNNPkYFH3D"
   },
   "source": [
    "We can also get back a full Keras model, from a TensorFlow SavedModel, by loading our SavedModel with the `tf.keras.models.load_model` function. "
   ]
  },
  {
   "cell_type": "code",
   "execution_count": 27,
   "metadata": {
    "colab": {
     "base_uri": "https://localhost:8080/",
     "height": 425
    },
    "colab_type": "code",
    "id": "0BxFJcGLyMTD",
    "outputId": "a2fefa76-57b5-4a9e-8c05-b8a1ae7f31a2"
   },
   "outputs": [
    {
     "name": "stdout",
     "output_type": "stream",
     "text": [
      "Model: \"sequential\"\n",
      "_________________________________________________________________\n",
      "Layer (type)                 Output Shape              Param #   \n",
      "=================================================================\n",
      "flatten (Flatten)            (None, 784)               0         \n",
      "_________________________________________________________________\n",
      "dense (Dense)                (None, 512)               401920    \n",
      "_________________________________________________________________\n",
      "dropout (Dropout)            (None, 512)               0         \n",
      "_________________________________________________________________\n",
      "dense_1 (Dense)              (None, 256)               131328    \n",
      "_________________________________________________________________\n",
      "dropout_1 (Dropout)          (None, 256)               0         \n",
      "_________________________________________________________________\n",
      "dense_2 (Dense)              (None, 128)               32896     \n",
      "_________________________________________________________________\n",
      "dropout_2 (Dropout)          (None, 128)               0         \n",
      "_________________________________________________________________\n",
      "dense_3 (Dense)              (None, 10)                1290      \n",
      "=================================================================\n",
      "Total params: 567,434\n",
      "Trainable params: 567,434\n",
      "Non-trainable params: 0\n",
      "_________________________________________________________________\n"
     ]
    }
   ],
   "source": [
    "reloaded_keras_model_from_SavedModel = tf.keras.models.load_model(savedModel_directory)\n",
    "\n",
    "reloaded_keras_model_from_SavedModel.summary()"
   ]
  },
  {
   "cell_type": "markdown",
   "metadata": {
    "colab_type": "text",
    "id": "FomAlrxnQnm8"
   },
   "source": [
    "## Saving Models During Training\n",
    "\n",
    "We have seen that when we train a model with a validation set, the value of the validation loss changes through the training process. Since the value of the validation loss is an indicator of how well our model will generalize to new data, it will be great if could save our model at each step of the training process and then only keep the version with the lowest validation loss. \n",
    "\n",
    "We can do this in `tf.keras` by using the following callback:\n",
    "\n",
    "```python\n",
    "tf.keras.callbacks.ModelCheckpoint('./best_model.h5', monitor='val_loss', save_best_only=True)\n",
    "```\n",
    "This callback will save the model as a Keras HDF5 file after every epoch. With the `save_best_only=True` argument, this callback will first check the validation loss of the latest model against the one previously saved. The callback will only save the latest model and overwrite the old one, if the latest model has a lower validation loss than the one previously saved. This will guarantee that will end up with the version of the model that achieved the lowest validation loss during training."
   ]
  },
  {
   "cell_type": "code",
   "execution_count": 28,
   "metadata": {
    "colab": {
     "base_uri": "https://localhost:8080/",
     "height": 765
    },
    "colab_type": "code",
    "id": "vvsuAeUQ1WKR",
    "outputId": "b8ee7834-f46e-4141-d61c-83cd7d72a333"
   },
   "outputs": [
    {
     "name": "stdout",
     "output_type": "stream",
     "text": [
      "Epoch 1/100\n",
      "563/563 [==============================] - 2s 3ms/step - loss: 0.7305 - accuracy: 0.7438 - val_loss: 0.4446 - val_accuracy: 0.8443\n",
      "Epoch 2/100\n",
      "563/563 [==============================] - 1s 2ms/step - loss: 0.4089 - accuracy: 0.8507 - val_loss: 0.3412 - val_accuracy: 0.8768\n",
      "Epoch 3/100\n",
      "563/563 [==============================] - 1s 2ms/step - loss: 0.3549 - accuracy: 0.8708 - val_loss: 0.3312 - val_accuracy: 0.8742\n",
      "Epoch 4/100\n",
      "563/563 [==============================] - 1s 2ms/step - loss: 0.3280 - accuracy: 0.8788 - val_loss: 0.2998 - val_accuracy: 0.8912\n",
      "Epoch 5/100\n",
      "563/563 [==============================] - 1s 2ms/step - loss: 0.3100 - accuracy: 0.8853 - val_loss: 0.2974 - val_accuracy: 0.8905\n",
      "Epoch 6/100\n",
      "563/563 [==============================] - 1s 2ms/step - loss: 0.2900 - accuracy: 0.8938 - val_loss: 0.2726 - val_accuracy: 0.8996\n",
      "Epoch 7/100\n",
      "563/563 [==============================] - 1s 2ms/step - loss: 0.2752 - accuracy: 0.8965 - val_loss: 0.2574 - val_accuracy: 0.9013\n",
      "Epoch 8/100\n",
      "563/563 [==============================] - 1s 2ms/step - loss: 0.2599 - accuracy: 0.9040 - val_loss: 0.2466 - val_accuracy: 0.9060\n",
      "Epoch 9/100\n",
      "563/563 [==============================] - 1s 2ms/step - loss: 0.2568 - accuracy: 0.9037 - val_loss: 0.2400 - val_accuracy: 0.9070\n",
      "Epoch 10/100\n",
      "563/563 [==============================] - 1s 2ms/step - loss: 0.2417 - accuracy: 0.9075 - val_loss: 0.2150 - val_accuracy: 0.9183414 - accuracy: \n",
      "Epoch 11/100\n",
      "563/563 [==============================] - 1s 2ms/step - loss: 0.2266 - accuracy: 0.9143 - val_loss: 0.1998 - val_accuracy: 0.9247\n",
      "Epoch 12/100\n",
      "563/563 [==============================] - 1s 2ms/step - loss: 0.2155 - accuracy: 0.9202 - val_loss: 0.2288 - val_accuracy: 0.9145\n",
      "Epoch 13/100\n",
      "563/563 [==============================] - 1s 2ms/step - loss: 0.2202 - accuracy: 0.9166 - val_loss: 0.1895 - val_accuracy: 0.9287\n",
      "Epoch 14/100\n",
      "563/563 [==============================] - 1s 2ms/step - loss: 0.2088 - accuracy: 0.9194 - val_loss: 0.1910 - val_accuracy: 0.9283\n",
      "Epoch 15/100\n",
      "563/563 [==============================] - 1s 2ms/step - loss: 0.1946 - accuracy: 0.9246 - val_loss: 0.1762 - val_accuracy: 0.9370\n",
      "Epoch 16/100\n",
      "563/563 [==============================] - 1s 2ms/step - loss: 0.1886 - accuracy: 0.9260 - val_loss: 0.1945 - val_accuracy: 0.9252\n",
      "Epoch 17/100\n",
      "563/563 [==============================] - 1s 2ms/step - loss: 0.1878 - accuracy: 0.9284 - val_loss: 0.1674 - val_accuracy: 0.9342\n",
      "Epoch 18/100\n",
      "563/563 [==============================] - 1s 2ms/step - loss: 0.1840 - accuracy: 0.9306 - val_loss: 0.2049 - val_accuracy: 0.9231\n",
      "Epoch 19/100\n",
      "563/563 [==============================] - 1s 2ms/step - loss: 0.1739 - accuracy: 0.9336 - val_loss: 0.1601 - val_accuracy: 0.9371\n",
      "Epoch 20/100\n",
      "563/563 [==============================] - 1s 2ms/step - loss: 0.1700 - accuracy: 0.9347 - val_loss: 0.1594 - val_accuracy: 0.9402\n",
      "Epoch 21/100\n",
      "563/563 [==============================] - 1s 2ms/step - loss: 0.1534 - accuracy: 0.9418 - val_loss: 0.1361 - val_accuracy: 0.9476\n",
      "Epoch 22/100\n",
      "563/563 [==============================] - 1s 2ms/step - loss: 0.1510 - accuracy: 0.9429 - val_loss: 0.1394 - val_accuracy: 0.9475\n",
      "Epoch 23/100\n",
      "563/563 [==============================] - 1s 2ms/step - loss: 0.1500 - accuracy: 0.9407 - val_loss: 0.1472 - val_accuracy: 0.9447\n",
      "Epoch 24/100\n",
      "563/563 [==============================] - 1s 2ms/step - loss: 0.1464 - accuracy: 0.9427 - val_loss: 0.1570 - val_accuracy: 0.9388\n",
      "Epoch 25/100\n",
      "563/563 [==============================] - 1s 2ms/step - loss: 0.1450 - accuracy: 0.9432 - val_loss: 0.1210 - val_accuracy: 0.9532\n",
      "Epoch 26/100\n",
      "563/563 [==============================] - 1s 2ms/step - loss: 0.1324 - accuracy: 0.9501 - val_loss: 0.1268 - val_accuracy: 0.9507\n",
      "Epoch 27/100\n",
      "563/563 [==============================] - 1s 2ms/step - loss: 0.1298 - accuracy: 0.9509 - val_loss: 0.1534 - val_accuracy: 0.9399\n",
      "Epoch 28/100\n",
      "563/563 [==============================] - 1s 2ms/step - loss: 0.1401 - accuracy: 0.9460 - val_loss: 0.1259 - val_accuracy: 0.9507\n",
      "Epoch 29/100\n",
      "563/563 [==============================] - 1s 2ms/step - loss: 0.1282 - accuracy: 0.9495 - val_loss: 0.1104 - val_accuracy: 0.9572\n",
      "Epoch 30/100\n",
      "563/563 [==============================] - 1s 2ms/step - loss: 0.1213 - accuracy: 0.9529 - val_loss: 0.1021 - val_accuracy: 0.9620- accuracy: \n",
      "Epoch 31/100\n",
      "563/563 [==============================] - 1s 2ms/step - loss: 0.1198 - accuracy: 0.9526 - val_loss: 0.1022 - val_accuracy: 0.9593\n",
      "Epoch 32/100\n",
      "563/563 [==============================] - 1s 2ms/step - loss: 0.1175 - accuracy: 0.9541 - val_loss: 0.1035 - val_accuracy: 0.9578\n",
      "Epoch 33/100\n",
      "563/563 [==============================] - 1s 2ms/step - loss: 0.1220 - accuracy: 0.9532 - val_loss: 0.1106 - val_accuracy: 0.9567\n",
      "Epoch 34/100\n",
      "563/563 [==============================] - 1s 2ms/step - loss: 0.1027 - accuracy: 0.9618 - val_loss: 0.1139 - val_accuracy: 0.9581\n",
      "Epoch 35/100\n",
      "563/563 [==============================] - 1s 2ms/step - loss: 0.1106 - accuracy: 0.9575 - val_loss: 0.0935 - val_accuracy: 0.9648\n",
      "Epoch 36/100\n",
      "563/563 [==============================] - 1s 2ms/step - loss: 0.1004 - accuracy: 0.9612 - val_loss: 0.0997 - val_accuracy: 0.9616\n",
      "Epoch 37/100\n",
      "563/563 [==============================] - 1s 2ms/step - loss: 0.1036 - accuracy: 0.9614 - val_loss: 0.0908 - val_accuracy: 0.9657\n",
      "Epoch 38/100\n",
      "563/563 [==============================] - 1s 2ms/step - loss: 0.0969 - accuracy: 0.9620 - val_loss: 0.1124 - val_accuracy: 0.9579\n",
      "Epoch 39/100\n",
      "563/563 [==============================] - 1s 2ms/step - loss: 0.1045 - accuracy: 0.9605 - val_loss: 0.0970 - val_accuracy: 0.9633\n",
      "Epoch 40/100\n",
      "563/563 [==============================] - 1s 2ms/step - loss: 0.0927 - accuracy: 0.9638 - val_loss: 0.0953 - val_accuracy: 0.9638 - loss: 0.0931 - ac\n",
      "Epoch 41/100\n",
      "563/563 [==============================] - 1s 2ms/step - loss: 0.0898 - accuracy: 0.9652 - val_loss: 0.0871 - val_accuracy: 0.9661\n",
      "Epoch 42/100\n",
      "563/563 [==============================] - 1s 2ms/step - loss: 0.0849 - accuracy: 0.9678 - val_loss: 0.0823 - val_accuracy: 0.9693\n",
      "Epoch 43/100\n",
      "563/563 [==============================] - 1s 2ms/step - loss: 0.0860 - accuracy: 0.9667 - val_loss: 0.0869 - val_accuracy: 0.9648\n",
      "Epoch 44/100\n",
      "563/563 [==============================] - 1s 2ms/step - loss: 0.0802 - accuracy: 0.9687 - val_loss: 0.0743 - val_accuracy: 0.9713\n",
      "Epoch 45/100\n",
      "563/563 [==============================] - 1s 2ms/step - loss: 0.0777 - accuracy: 0.9690 - val_loss: 0.1092 - val_accuracy: 0.9575\n",
      "Epoch 46/100\n",
      "563/563 [==============================] - 1s 2ms/step - loss: 0.0832 - accuracy: 0.9676 - val_loss: 0.0850 - val_accuracy: 0.9668\n",
      "Epoch 47/100\n",
      "563/563 [==============================] - 1s 2ms/step - loss: 0.0856 - accuracy: 0.9674 - val_loss: 0.0648 - val_accuracy: 0.9747\n",
      "Epoch 48/100\n",
      "563/563 [==============================] - 1s 2ms/step - loss: 0.0769 - accuracy: 0.9698 - val_loss: 0.0923 - val_accuracy: 0.9619\n",
      "Epoch 49/100\n",
      "563/563 [==============================] - 1s 2ms/step - loss: 0.0779 - accuracy: 0.9701 - val_loss: 0.0897 - val_accuracy: 0.9661\n",
      "Epoch 50/100\n",
      "563/563 [==============================] - 1s 2ms/step - loss: 0.0783 - accuracy: 0.9708 - val_loss: 0.0813 - val_accuracy: 0.9669\n",
      "Epoch 51/100\n",
      "563/563 [==============================] - 1s 2ms/step - loss: 0.0724 - accuracy: 0.9728 - val_loss: 0.1030 - val_accuracy: 0.9631\n",
      "Epoch 52/100\n",
      "563/563 [==============================] - 1s 2ms/step - loss: 0.0781 - accuracy: 0.9710 - val_loss: 0.0917 - val_accuracy: 0.9658\n",
      "Epoch 53/100\n",
      "563/563 [==============================] - 1s 2ms/step - loss: 0.0715 - accuracy: 0.9718 - val_loss: 0.0764 - val_accuracy: 0.9704\n",
      "Epoch 54/100\n",
      "563/563 [==============================] - 1s 2ms/step - loss: 0.0716 - accuracy: 0.9726 - val_loss: 0.0573 - val_accuracy: 0.9793\n",
      "Epoch 55/100\n",
      "563/563 [==============================] - 1s 2ms/step - loss: 0.0678 - accuracy: 0.9753 - val_loss: 0.0788 - val_accuracy: 0.9704\n",
      "Epoch 56/100\n",
      "563/563 [==============================] - 1s 2ms/step - loss: 0.0613 - accuracy: 0.9768 - val_loss: 0.0654 - val_accuracy: 0.9759\n",
      "Epoch 57/100\n"
     ]
    },
    {
     "name": "stdout",
     "output_type": "stream",
     "text": [
      "563/563 [==============================] - 1s 2ms/step - loss: 0.0672 - accuracy: 0.9751 - val_loss: 0.0617 - val_accuracy: 0.9776\n",
      "Epoch 58/100\n",
      "563/563 [==============================] - 1s 2ms/step - loss: 0.0693 - accuracy: 0.9735 - val_loss: 0.0499 - val_accuracy: 0.9811\n",
      "Epoch 59/100\n",
      "563/563 [==============================] - 1s 2ms/step - loss: 0.0599 - accuracy: 0.9771 - val_loss: 0.0742 - val_accuracy: 0.9732\n",
      "Epoch 60/100\n",
      "563/563 [==============================] - 1s 2ms/step - loss: 0.0624 - accuracy: 0.9776 - val_loss: 0.0411 - val_accuracy: 0.9837\n",
      "Epoch 61/100\n",
      "563/563 [==============================] - 1s 2ms/step - loss: 0.0556 - accuracy: 0.9790 - val_loss: 0.0866 - val_accuracy: 0.9675\n",
      "Epoch 62/100\n",
      "563/563 [==============================] - 1s 2ms/step - loss: 0.0586 - accuracy: 0.9782 - val_loss: 0.0577 - val_accuracy: 0.9774\n",
      "Epoch 63/100\n",
      "563/563 [==============================] - 1s 2ms/step - loss: 0.0594 - accuracy: 0.9775 - val_loss: 0.0516 - val_accuracy: 0.9821\n",
      "Epoch 64/100\n",
      "563/563 [==============================] - 1s 2ms/step - loss: 0.0488 - accuracy: 0.9818 - val_loss: 0.0509 - val_accuracy: 0.9811\n",
      "Epoch 65/100\n",
      "563/563 [==============================] - 1s 2ms/step - loss: 0.0624 - accuracy: 0.9770 - val_loss: 0.0561 - val_accuracy: 0.9775\n",
      "Epoch 66/100\n",
      "563/563 [==============================] - ETA: 0s - loss: 0.0502 - accuracy: 0.98 - 1s 2ms/step - loss: 0.0502 - accuracy: 0.9812 - val_loss: 0.0436 - val_accuracy: 0.9852\n",
      "Epoch 67/100\n",
      "563/563 [==============================] - 1s 2ms/step - loss: 0.0522 - accuracy: 0.9799 - val_loss: 0.0436 - val_accuracy: 0.9833\n",
      "Epoch 68/100\n",
      "563/563 [==============================] - 1s 2ms/step - loss: 0.0521 - accuracy: 0.9814 - val_loss: 0.0563 - val_accuracy: 0.9773\n",
      "Epoch 69/100\n",
      "563/563 [==============================] - 1s 2ms/step - loss: 0.0504 - accuracy: 0.9820 - val_loss: 0.0411 - val_accuracy: 0.9850\n",
      "Epoch 70/100\n",
      "563/563 [==============================] - 1s 2ms/step - loss: 0.0492 - accuracy: 0.9816 - val_loss: 0.0902 - val_accuracy: 0.9678\n",
      "Epoch 71/100\n",
      "563/563 [==============================] - 1s 2ms/step - loss: 0.0454 - accuracy: 0.9825 - val_loss: 0.0405 - val_accuracy: 0.9848\n",
      "Epoch 72/100\n",
      "563/563 [==============================] - 1s 2ms/step - loss: 0.0492 - accuracy: 0.9828 - val_loss: 0.0499 - val_accuracy: 0.9808\n",
      "Epoch 73/100\n",
      "563/563 [==============================] - 1s 2ms/step - loss: 0.0462 - accuracy: 0.9820 - val_loss: 0.0312 - val_accuracy: 0.9881\n",
      "Epoch 74/100\n",
      "563/563 [==============================] - 1s 2ms/step - loss: 0.0409 - accuracy: 0.9849 - val_loss: 0.0589 - val_accuracy: 0.9776\n",
      "Epoch 75/100\n",
      "563/563 [==============================] - 1s 2ms/step - loss: 0.0525 - accuracy: 0.9818 - val_loss: 0.0528 - val_accuracy: 0.9800\n",
      "Epoch 76/100\n",
      "563/563 [==============================] - 1s 2ms/step - loss: 0.0506 - accuracy: 0.9820 - val_loss: 0.0656 - val_accuracy: 0.9743\n",
      "Epoch 77/100\n",
      "563/563 [==============================] - 1s 2ms/step - loss: 0.0378 - accuracy: 0.9860 - val_loss: 0.0428 - val_accuracy: 0.9834\n",
      "Epoch 78/100\n",
      "563/563 [==============================] - 1s 2ms/step - loss: 0.0395 - accuracy: 0.9859 - val_loss: 0.0759 - val_accuracy: 0.9728\n",
      "Epoch 79/100\n",
      "563/563 [==============================] - 1s 2ms/step - loss: 0.0740 - accuracy: 0.9744 - val_loss: 0.0350 - val_accuracy: 0.9862\n",
      "Epoch 80/100\n",
      "563/563 [==============================] - 1s 2ms/step - loss: 0.0360 - accuracy: 0.9863 - val_loss: 0.0325 - val_accuracy: 0.9880\n",
      "Epoch 81/100\n",
      "563/563 [==============================] - 1s 2ms/step - loss: 0.0310 - accuracy: 0.9891 - val_loss: 0.0511 - val_accuracy: 0.9823\n",
      "Epoch 82/100\n",
      "563/563 [==============================] - 1s 2ms/step - loss: 0.0418 - accuracy: 0.9847 - val_loss: 0.0403 - val_accuracy: 0.9837\n",
      "Epoch 83/100\n",
      "563/563 [==============================] - 1s 2ms/step - loss: 0.0444 - accuracy: 0.9837 - val_loss: 0.0613 - val_accuracy: 0.9793\n"
     ]
    }
   ],
   "source": [
    "model = tf.keras.Sequential([\n",
    "        tf.keras.layers.Flatten(input_shape=(28,28,1)),\n",
    "        tf.keras.layers.Dense(256, activation = 'relu'),\n",
    "        tf.keras.layers.Dense(128, activation = 'relu'),\n",
    "        tf.keras.layers.Dense(64, activation = 'relu'),\n",
    "        tf.keras.layers.Dense(10, activation = 'softmax')\n",
    "])\n",
    "\n",
    "model.compile(optimizer='adam',\n",
    "              loss='sparse_categorical_crossentropy',\n",
    "              metrics=['accuracy'])\n",
    "\n",
    "# Stop training when there is no improvement in the validation loss for 10 consecutive epochs\n",
    "early_stopping = tf.keras.callbacks.EarlyStopping(monitor='val_loss', patience=10)\n",
    "\n",
    "# Save the Model with the lowest validation loss\n",
    "save_best = tf.keras.callbacks.ModelCheckpoint('./best_model.h5',\n",
    "                                               monitor='val_loss',\n",
    "                                               save_best_only=True)\n",
    "\n",
    "history = model.fit(training_batches,\n",
    "                    epochs = 100,\n",
    "                    validation_data=validation_batches,\n",
    "                    callbacks=[early_stopping, save_best])"
   ]
  },
  {
   "cell_type": "code",
   "execution_count": null,
   "metadata": {
    "colab": {},
    "colab_type": "code",
    "id": "sz4snGQsR2Mg"
   },
   "outputs": [],
   "source": []
  }
 ],
 "metadata": {
  "accelerator": "GPU",
  "colab": {
   "collapsed_sections": [],
   "name": "Part 6 - Saving and Loading Models.ipynb",
   "provenance": []
  },
  "kernelspec": {
   "display_name": "Python 3",
   "language": "python",
   "name": "python3"
  },
  "language_info": {
   "codemirror_mode": {
    "name": "ipython",
    "version": 3
   },
   "file_extension": ".py",
   "mimetype": "text/x-python",
   "name": "python",
   "nbconvert_exporter": "python",
   "pygments_lexer": "ipython3",
   "version": "3.8.5"
  }
 },
 "nbformat": 4,
 "nbformat_minor": 1
}
